{
 "metadata": {
  "language_info": {
   "codemirror_mode": {
    "name": "ipython",
    "version": 3
   },
   "file_extension": ".py",
   "mimetype": "text/x-python",
   "name": "python",
   "nbconvert_exporter": "python",
   "pygments_lexer": "ipython3",
   "version": "3.9.1-final"
  },
  "orig_nbformat": 2,
  "kernelspec": {
   "name": "python3",
   "display_name": "Python 3",
   "language": "python"
  }
 },
 "nbformat": 4,
 "nbformat_minor": 2,
 "cells": [
  {
   "cell_type": "code",
   "execution_count": 1,
   "metadata": {},
   "outputs": [],
   "source": [
    "from youtube_data.models import ChannelInfo, VideoInfo\n",
    "from pathlib import Path\n",
    "from typing import List"
   ]
  },
  {
   "cell_type": "code",
   "execution_count": 4,
   "metadata": {},
   "outputs": [],
   "source": [
    "filepath = 'results/20210117.output.0.json'"
   ]
  },
  {
   "cell_type": "code",
   "execution_count": 5,
   "metadata": {},
   "outputs": [],
   "source": [
    "data = Path(filepath).read_text(encoding='utf-8')\n",
    "info: ChannelInfo = ChannelInfo.from_json(data)\n",
    "pl = info.playlist"
   ]
  },
  {
   "source": [
    "# Playlist (Channel info)"
   ],
   "cell_type": "markdown",
   "metadata": {}
  },
  {
   "source": [
    "str(info.recorded_time)\n"
   ],
   "cell_type": "code",
   "metadata": {},
   "execution_count": 6,
   "outputs": [
    {
     "output_type": "execute_result",
     "data": {
      "text/plain": [
       "'2021-01-17 15:04:33.509592-05:00'"
      ]
     },
     "metadata": {},
     "execution_count": 6
    }
   ]
  },
  {
   "cell_type": "code",
   "execution_count": 7,
   "metadata": {},
   "outputs": [
    {
     "output_type": "execute_result",
     "data": {
      "text/plain": [
       "datetime.datetime(2021, 1, 30, 7, 46, 20, 369545)"
      ]
     },
     "metadata": {},
     "execution_count": 7
    }
   ],
   "source": [
    "from datetime import datetime\n",
    "\n",
    "datetime.now()"
   ]
  },
  {
   "cell_type": "code",
   "execution_count": 8,
   "metadata": {},
   "outputs": [
    {
     "output_type": "execute_result",
     "data": {
      "text/plain": [
       "31"
      ]
     },
     "metadata": {},
     "execution_count": 8
    }
   ],
   "source": [
    "len(pl)"
   ]
  },
  {
   "source": [
    "# Sorted by views"
   ],
   "cell_type": "markdown",
   "metadata": {}
  },
  {
   "cell_type": "code",
   "execution_count": null,
   "metadata": {},
   "outputs": [],
   "source": []
  },
  {
   "source": [
    "pl.sort(key= lambda video: video.view_count, reverse=True)\n",
    "\n",
    "for video in pl:\n",
    "    print(f'{video.name}')"
   ],
   "cell_type": "code",
   "metadata": {},
   "execution_count": 10,
   "outputs": [
    {
     "output_type": "stream",
     "name": "stdout",
     "text": [
      "舞蹈 六字真言颂\n学佛舞蹈 心是莲花开\n歌伴舞 佛陀牵着我的手\n新的一年开门见喜！在纽约长岛第一寺院，让我们快乐的跳起来、腰鼓打起来！\n学佛的路选对了！歌曲 无悔菩提路 唱出了很多学佛人的心声\nDAMI团体七周年掠影\n弥勒佛赞\n岁月静好 感恩有您\n原创学佛唱诵 西方朝圣路\n完全没有舞蹈背景的学佛人 演绎的舞蹈《千手观音》\n天真活泼的学佛孩子 也跳起来了 I am gonna catch you\n青少年舞蹈 All in this together\n冬藏\n大阿弥陀赞\n献礼大密六周年（DAMI sixth anniversary） 中年人也舞动起来： 向快乐出发！\n第二寺院活动简报\n学佛的孩子最快乐 勇气棒嘟嘟\n这几件事生气的时候不能做\n学佛舞蹈 极乐世界是我家（青年组）\n青少年舞蹈 Celebration\n佛爱纽约 爱我们\n韶华易逝 容颜易老 繁华落尽 平淡归真\n佛在我身边（脊髓炎消失了）（上）\nDAMI七周年节庆祝活动简报\n二零一八年新年庆祝简报\n职业的选择很重要，真实的学佛故事证明《吉祥经》 从业无害最吉祥\n良好的环境有助于学佛 向您介绍简单易行的 家庭清洁小妙招\n发展纪实： 寺院是一步一步发展起来的，为了给居士和孩子们创造良好的环境，2018年后院进行了伐木\n学佛治愈乳腺癌\n2016元旦灯展\n欢庆腊八节 学佛舞蹈 回家\n青少年舞蹈 Best day of my life 生命中最美好的一天\n学佛舞蹈 云水禅心（欢庆腊八节）\n寺院路面及排水系统重建工程\n【周年庆典】/【週年慶典】/大密一周年庆典/ Celebrating The 1st Anniversary Of DAMI\n【真实学佛故事】（乙肝患者康复的真实故事）学佛让我重获新生/學佛讓我重獲新生 Hepatitis B Cured By Practicing Buddhism #乙肝治愈#学佛\n欢庆腊八节 舞蹈 荷花颂\n炉香赞\n全家福 舞蹈 看50岁、60岁、70岁学佛人的自信和活力！\n青少年舞蹈 HIGH HOPES 希望永在\n大悲咒 /梵唱大悲咒 / 舞蹈/ 五周年庆典\n舞蹈 观音菩萨赞（欢庆腊八节）\n梵呗 弥勒佛赞\n【真实学佛故事】【青少年学佛】从手机控变成了优等生/ 從手機控變成了優等生 Practicing Buddhism Makes Me A Better Student\n佛在我身边（脊髓炎消失了）（下）\n庆祝大密成立 舞蹈 开门红\n古筝佛赞 学佛舞蹈\n蜂蜜 /蜂蜜的妙用 /学佛与科学的生活\n【真实学佛故事】戒酒/学佛让我轻松戒掉20年酒瘾 I Quit Drinking Alcohol After Practice Buddhism\n【真实学佛故事】轻松戒掉二十年烟瘾/ 輕鬆戒掉二十年煙癮 I Quit Smoking After Practice Buddhism\n礼赞西方 /赞佛/\n我相信/ I do believe/ 学佛舞蹈\n原创诗朗诵《大密颂》\n【Buddhist dance】莲花处处开/ 蓮花處處開 Lotus Flowers Appear Everywhere\n（2012年的云演唱会）网络梵呗演唱会简报\n【青少年舞蹈】Firework 烟花 dance 煙花\n赞美佛陀（青少年改编学佛歌曲）\n四位老人说快板 学佛就是好\n【学佛舞蹈】菩提心/ Bodhicitta （庆祝腊八节）\n【梵呗】 献供赞/ 獻供贊\n"
     ]
    }
   ]
  },
  {
   "cell_type": "code",
   "execution_count": 9,
   "metadata": {},
   "outputs": [
    {
     "output_type": "execute_result",
     "data": {
      "text/plain": [
       "'2021-01-30 07:41:09.509925-05:00'"
      ]
     },
     "metadata": {},
     "execution_count": 9
    }
   ],
   "source": [
    "str(info.recorded_time)"
   ]
  },
  {
   "cell_type": "code",
   "execution_count": 19,
   "metadata": {},
   "outputs": [],
   "source": [
    "data_dir = Path(\"results/\")\n",
    "data: List[ChannelInfo] = []\n",
    "for file in data_dir.iterdir():\n",
    "    try:\n",
    "        data.append(ChannelInfo.from_json(file.read_text(encoding='utf-8')))\n",
    "    except AttributeError as e:\n",
    "        print(f'error occurred while reading {file}: {e}')"
   ]
  },
  {
   "cell_type": "code",
   "execution_count": 15,
   "metadata": {},
   "outputs": [
    {
     "output_type": "execute_result",
     "data": {
      "text/plain": [
       "True"
      ]
     },
     "metadata": {},
     "execution_count": 15
    }
   ],
   "source": [
    "len(data) == len(list(data_dir.iterdir()))"
   ]
  },
  {
   "cell_type": "code",
   "execution_count": 21,
   "metadata": {},
   "outputs": [],
   "source": [
    "from collections import defaultdict\n"
   ]
  },
  {
   "cell_type": "code",
   "execution_count": 28,
   "metadata": {},
   "outputs": [],
   "source": [
    "videos = defaultdict(list)\n",
    "for channel in data:\n",
    "    for video in channel.playlist:\n",
    "        videos[video.link.lstrip('https://www.youtube.com/watch?').split('&')[0]].append(video.view_count)\n"
   ]
  },
  {
   "cell_type": "code",
   "execution_count": 32,
   "metadata": {},
   "outputs": [],
   "source": [
    "from itertools import islice\n",
    "from collections import deque\n",
    "def sliding_window_iter(iterable, size):\n",
    "    \"\"\"...\"\"\"\n",
    "    iterable = iter(iterable)\n",
    "    window = deque(islice(iterable, size), maxlen=size)\n",
    "    for item in iterable:\n",
    "        yield tuple(window)\n",
    "        window.append(item)\n",
    "    if window:  \n",
    "        # needed because if iterable was already empty before the `for`,\n",
    "        # then the window would be yielded twice.\n",
    "        yield tuple(window)"
   ]
  },
  {
   "cell_type": "code",
   "execution_count": 43,
   "metadata": {},
   "outputs": [
    {
     "output_type": "execute_result",
     "data": {
      "text/plain": [
       "790"
      ]
     },
     "metadata": {},
     "execution_count": 43
    }
   ],
   "source": [
    "test = videos.get(\"v=nSNwHRBwY0s\")\n",
    "diffs = []\n",
    "for (a, b) in sliding_window_iter(test, 2):\n",
    "    diffs.append(b - a)\n",
    "test[0] + sum([max(d, 0) for d in diffs])"
   ]
  },
  {
   "cell_type": "code",
   "execution_count": 45,
   "metadata": {},
   "outputs": [
    {
     "output_type": "error",
     "ename": "IndexError",
     "evalue": "list index out of range",
     "traceback": [
      "\u001b[1;31m---------------------------------------------------------------------------\u001b[0m",
      "\u001b[1;31mIndexError\u001b[0m                                Traceback (most recent call last)",
      "\u001b[1;32m<ipython-input-45-2b2cdf470deb>\u001b[0m in \u001b[0;36m<module>\u001b[1;34m\u001b[0m\n\u001b[0;32m      4\u001b[0m     \u001b[1;32mfor\u001b[0m \u001b[1;33m(\u001b[0m\u001b[0ma\u001b[0m\u001b[1;33m,\u001b[0m \u001b[0mb\u001b[0m\u001b[1;33m)\u001b[0m \u001b[1;32min\u001b[0m \u001b[0msliding_window_iter\u001b[0m\u001b[1;33m(\u001b[0m\u001b[0mviews\u001b[0m\u001b[1;33m,\u001b[0m \u001b[1;36m2\u001b[0m\u001b[1;33m)\u001b[0m\u001b[1;33m:\u001b[0m\u001b[1;33m\u001b[0m\u001b[1;33m\u001b[0m\u001b[0m\n\u001b[0;32m      5\u001b[0m         \u001b[0mdiffs\u001b[0m\u001b[1;33m.\u001b[0m\u001b[0mappend\u001b[0m\u001b[1;33m(\u001b[0m\u001b[0mb\u001b[0m \u001b[1;33m-\u001b[0m \u001b[0ma\u001b[0m\u001b[1;33m)\u001b[0m\u001b[1;33m\u001b[0m\u001b[1;33m\u001b[0m\u001b[0m\n\u001b[1;32m----> 6\u001b[1;33m     \u001b[0mvideo_counts\u001b[0m\u001b[1;33m[\u001b[0m\u001b[0mkey\u001b[0m\u001b[1;33m]\u001b[0m \u001b[1;33m=\u001b[0m \u001b[0mviews\u001b[0m\u001b[1;33m[\u001b[0m\u001b[1;36m0\u001b[0m\u001b[1;33m]\u001b[0m \u001b[1;33m+\u001b[0m \u001b[0msum\u001b[0m\u001b[1;33m(\u001b[0m\u001b[1;33m(\u001b[0m\u001b[0mmax\u001b[0m\u001b[1;33m(\u001b[0m\u001b[0md\u001b[0m\u001b[1;33m,\u001b[0m \u001b[1;36m0\u001b[0m\u001b[1;33m)\u001b[0m \u001b[1;32mfor\u001b[0m \u001b[0md\u001b[0m \u001b[1;32min\u001b[0m \u001b[0mdiffs\u001b[0m\u001b[1;33m)\u001b[0m\u001b[1;33m)\u001b[0m\u001b[1;33m\u001b[0m\u001b[1;33m\u001b[0m\u001b[0m\n\u001b[0m",
      "\u001b[1;31mIndexError\u001b[0m: list index out of range"
     ]
    }
   ],
   "source": [
    "video_counts = dict()\n",
    "for key, views in videos.items():\n",
    "    diffs = []\n",
    "    if len(views) == 0:\n",
    "        print(f'key {key} has no views')\n",
    "    else:    \n",
    "        for (a, b) in sliding_window_iter(views, 2):\n",
    "            diffs.append(b - a)\n",
    "        video_counts[key] = views[0] + sum((max(d, 0) for d in diffs))\n"
   ]
  },
  {
   "cell_type": "code",
   "execution_count": null,
   "metadata": {},
   "outputs": [],
   "source": []
  }
 ]
}