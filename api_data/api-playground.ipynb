{
 "metadata": {
  "language_info": {
   "codemirror_mode": {
    "name": "ipython",
    "version": 3
   },
   "file_extension": ".py",
   "mimetype": "text/x-python",
   "name": "python",
   "nbconvert_exporter": "python",
   "pygments_lexer": "ipython3",
   "version": "3.9.1-final"
  },
  "orig_nbformat": 2,
  "kernelspec": {
   "name": "python3",
   "display_name": "Python 3",
   "language": "python"
  }
 },
 "nbformat": 4,
 "nbformat_minor": 2,
 "cells": [
  {
   "cell_type": "code",
   "execution_count": 3,
   "metadata": {},
   "outputs": [
    {
     "output_type": "stream",
     "name": "stdout",
     "text": [
      "The dotenv extension is already loaded. To reload it, use:\n  %reload_ext dotenv\n"
     ]
    }
   ],
   "source": [
    "%load_ext dotenv"
   ]
  },
  {
   "cell_type": "code",
   "execution_count": 4,
   "metadata": {},
   "outputs": [],
   "source": [
    "%dotenv api_data/.env\n",
    "from api_data.youtube import youtube\n",
    "from api_data.video import get_all_video_id, get_video_info"
   ]
  },
  {
   "cell_type": "code",
   "execution_count": 9,
   "metadata": {},
   "outputs": [],
   "source": []
  },
  {
   "cell_type": "code",
   "execution_count": 10,
   "metadata": {},
   "outputs": [],
   "source": [
    "\n",
    "\n",
    "# list(chunks(videos, 50))\n"
   ]
  },
  {
   "cell_type": "code",
   "execution_count": 11,
   "metadata": {},
   "outputs": [],
   "source": []
  },
  {
   "cell_type": "code",
   "execution_count": 12,
   "metadata": {},
   "outputs": [
    {
     "output_type": "execute_result",
     "data": {
      "text/plain": [
       "{'kind': 'youtube#video',\n",
       " 'etag': '99Y6NiPexbRUm0zbEICje076klQ',\n",
       " 'id': 'gPBjqtFSBwo',\n",
       " 'snippet': {'publishedAt': '2021-01-13T22:51:06Z',\n",
       "  'channelId': 'UCkss6NzmCBzo8TyvB3I0qaA',\n",
       "  'title': '二零一八年新年庆祝简报',\n",
       "  'description': '“学佛在大密 ” 频道地址 youtube.com/dami88\\n\\n2018年农历新年为期一周的庆祝活动\\n大人孩子们载歌载舞',\n",
       "  'thumbnails': {'default': {'url': 'https://i.ytimg.com/vi/gPBjqtFSBwo/default.jpg',\n",
       "    'width': 120,\n",
       "    'height': 90},\n",
       "   'medium': {'url': 'https://i.ytimg.com/vi/gPBjqtFSBwo/mqdefault.jpg',\n",
       "    'width': 320,\n",
       "    'height': 180},\n",
       "   'high': {'url': 'https://i.ytimg.com/vi/gPBjqtFSBwo/hqdefault.jpg',\n",
       "    'width': 480,\n",
       "    'height': 360},\n",
       "   'standard': {'url': 'https://i.ytimg.com/vi/gPBjqtFSBwo/sddefault.jpg',\n",
       "    'width': 640,\n",
       "    'height': 480}},\n",
       "  'channelTitle': '学佛在大密',\n",
       "  'tags': ['学佛', '新年', '农历新年', '大密', '庆祝'],\n",
       "  'categoryId': '29',\n",
       "  'liveBroadcastContent': 'none',\n",
       "  'localized': {'title': '二零一八年新年庆祝简报',\n",
       "   'description': '“学佛在大密 ” 频道地址 youtube.com/dami88\\n\\n2018年农历新年为期一周的庆祝活动\\n大人孩子们载歌载舞'},\n",
       "  'defaultAudioLanguage': 'zh-CN'},\n",
       " 'statistics': {'viewCount': '704',\n",
       "  'likeCount': '75',\n",
       "  'dislikeCount': '0',\n",
       "  'favoriteCount': '0',\n",
       "  'commentCount': '102'}}"
      ]
     },
     "metadata": {},
     "execution_count": 12
    }
   ],
   "source": [
    "info = res['items']\n",
    "info[0]"
   ]
  },
  {
   "cell_type": "code",
   "execution_count": 13,
   "metadata": {},
   "outputs": [],
   "source": [
    "video_stats = {}\n",
    "\n",
    "for page in all:\n",
    "    for video in page['items']:\n",
    "        video_stats[video[\"id\"]] = video[\"statistics\"]"
   ]
  },
  {
   "cell_type": "code",
   "execution_count": 15,
   "metadata": {},
   "outputs": [
    {
     "output_type": "execute_result",
     "data": {
      "text/plain": [
       "67149"
      ]
     },
     "metadata": {},
     "execution_count": 15
    }
   ],
   "source": [
    "sum(int(a['viewCount']) for a in video_stats.values())"
   ]
  },
  {
   "cell_type": "code",
   "execution_count": 23,
   "metadata": {},
   "outputs": [],
   "source": [
    "vmap = {}\n",
    "for page in all:\n",
    "    for video in page['items']:\n",
    "        vmap[video['id']] = {\n",
    "            'title': video['snippet']['title'],\n",
    "            'publishedAt': video['snippet']['publishedAt'],\n",
    "            'stat': video['statistics'],\n",
    "        }"
   ]
  },
  {
   "cell_type": "code",
   "execution_count": 24,
   "metadata": {},
   "outputs": [
    {
     "output_type": "stream",
     "name": "stdout",
     "text": [
      "https://www.youtube.com/watch?v=rEA6ep4ytkk,欢度春节现场 舞蹈 Jump up,2021-02-19T12:46:17Z\nhttps://www.youtube.com/watch?v=Wvq8cZpsESw,（原创歌词） 快乐的我们,2021-02-18T00:43:32Z\nhttps://www.youtube.com/watch?v=uoFlmTTWb5g,实拍 纽约华人春节大游行 真热闹 （2016）,2021-02-12T23:47:12Z\nhttps://www.youtube.com/watch?v=jWIdZ9ZZBDg,实拍 纽约华人新春 花车游行 （2015）,2021-02-12T22:34:56Z\nhttps://www.youtube.com/watch?v=cCRyUHpA6u8,舞蹈 幸福吉祥,2021-02-12T02:05:28Z\nhttps://www.youtube.com/watch?v=fKTCy8MelHQ,腰鼓节目 鼓动天地,2021-02-12T00:15:03Z\nhttps://www.youtube.com/watch?v=C9SGB447_fY,学佛在大密观后感 大家谈,2021-02-11T23:39:49Z\nhttps://www.youtube.com/watch?v=5cVI0J7dhEI,感恩大慈大悲观世音菩萨,2021-02-11T13:04:23Z\nhttps://www.youtube.com/watch?v=lBO2O3u9wCI,感恩诸佛菩萨！ 舞蹈 感恩常在,2021-02-11T10:41:15Z\nhttps://www.youtube.com/watch?v=0dHpyXdE-0Y,（新版）你笑起来真好看,2021-02-11T10:35:13Z\nhttps://www.youtube.com/watch?v=oUBgthFrdAE,舞蹈 听我说谢谢您,2021-02-10T13:33:22Z\nhttps://www.youtube.com/watch?v=YLZu6B2RK5I,（原创）学佛三句半 团结开发能量,2021-02-10T13:32:24Z\nhttps://www.youtube.com/watch?v=BIT6qU97SSY,舞蹈 幸福跳起来,2021-02-09T16:45:35Z\nhttps://www.youtube.com/watch?v=1f_cd-wOmYs,【学佛舞蹈】 心若莲花,2021-02-09T16:15:40Z\nhttps://www.youtube.com/watch?v=bj9HK1GHDHg,庆祝大密八周年 舞蹈 天天向上,2021-02-05T17:19:29Z\nhttps://www.youtube.com/watch?v=sVnkYqm20rM,感恩观世音菩萨,2021-02-05T16:51:14Z\nhttps://www.youtube.com/watch?v=A8gnMRg_Ts8,【梵呗】 献供赞/ 獻供贊/ Buddhist Chanting,2021-01-30T11:41:00Z\nhttps://www.youtube.com/watch?v=ZB-W7_Sv_4k,【学佛舞蹈】菩提心/ Bodhicitta （庆祝腊八节）,2021-01-30T11:22:51Z\nhttps://www.youtube.com/watch?v=8y1rAG6iHVE,赞礼西方四十八愿 /赞佛/原创词,2021-01-29T18:41:49Z\nhttps://www.youtube.com/watch?v=llUTIBszny8,我相信/ I do believe/ 学佛舞蹈,2021-01-29T12:13:37Z\nhttps://www.youtube.com/watch?v=YnTFhlU0juo,蜂蜜 /蜂蜜的妙用 /学佛与科学的生活,2021-01-28T15:29:45Z\nhttps://www.youtube.com/watch?v=9N6Yk3HMdMA,大悲咒 /梵唱大悲咒 / 舞蹈/ 五周年庆典,2021-01-28T15:29:37Z\nhttps://www.youtube.com/watch?v=fkphfBucZUo,【周年庆典】/【週年慶典】/大密一周年庆典/ Celebrating The 1st Anniversary Of DAMI,2021-01-27T15:19:00Z\nhttps://www.youtube.com/watch?v=GX1T4CvLRA0,【青少年舞蹈】Firework 烟花 dance 煙花,2021-01-27T15:18:14Z\nhttps://www.youtube.com/watch?v=OREZOWdcDbM,【真实学佛故事】戒酒/学佛让我轻松戒掉20年酒瘾 I Quit Drinking Alcohol After Practice Buddhism,2021-01-26T21:27:13Z\nhttps://www.youtube.com/watch?v=lN0aRiCBklU,【Buddhist dance】莲花处处开/ 蓮花處處開 Lotus Flowers Appear Everywhere,2021-01-26T15:41:12Z\nhttps://www.youtube.com/watch?v=icdQk9xb8A4,【真实学佛故事】（乙肝患者康复的真实故事）学佛让我重获新生/學佛讓我重獲新生  Hepatitis B Cured By Practicing Buddhism #乙肝治愈#学佛,2021-01-25T16:18:11Z\nhttps://www.youtube.com/watch?v=yi3zlQBQEWM,古筝佛赞 【学佛舞蹈】,2021-01-25T16:14:13Z\nhttps://www.youtube.com/watch?v=ci55moJRoos,全家福 舞蹈  看50岁、60岁、70岁学佛人的自信和活力！,2021-01-24T11:31:22Z\nhttps://www.youtube.com/watch?v=pyqVCBbA0Y8,青少年舞蹈 HIGH HOPES 希望永在,2021-01-24T11:17:59Z\nhttps://www.youtube.com/watch?v=9YUGY-C9q9s,（2012年的云演唱会）网络梵呗演唱会简报,2021-01-23T20:30:21Z\nhttps://www.youtube.com/watch?v=GJ7eD-fFCSo,四位老人说快板 学佛就是好,2021-01-23T20:26:27Z\nhttps://www.youtube.com/watch?v=gPdX7-xznLo,庆祝大密成立 舞蹈 开门红,2021-01-22T17:49:22Z\nhttps://www.youtube.com/watch?v=ytC21HnMYKQ,【真实学佛故事】轻松戒掉二十年烟瘾/ 輕鬆戒掉二十年煙癮 I Quit Smoking After Practice Buddhism,2021-01-22T17:41:09Z\nhttps://www.youtube.com/watch?v=yc1dVPIwPC4,2016元旦灯展,2021-01-21T16:17:36Z\nhttps://www.youtube.com/watch?v=on1rt3FPUQY,【真实学佛故事】【青少年学佛】从手机控变成了优等生/ 從手機控變成了優等生 Practicing Buddhism Makes Me A Better Student,2021-01-21T16:13:36Z\nhttps://www.youtube.com/watch?v=H_LpkMK48GM,欢庆腊八节 舞蹈 荷花颂,2021-01-20T14:41:01Z\nhttps://www.youtube.com/watch?v=FL2V5uO9MeE,欢庆腊八节 学佛舞蹈 回家,2021-01-20T13:00:38Z\nhttps://www.youtube.com/watch?v=aEc-nz0FFrA,学佛舞蹈 云水禅心（欢庆腊八节）,2021-01-19T23:27:54Z\nhttps://www.youtube.com/watch?v=XZIi0UHwjgs,【梵呗】弥勒佛赞/ 彌勒佛贊/ Buddhist chanting,2021-01-19T12:08:11Z\nhttps://www.youtube.com/watch?v=y-_c8nfUThI,舞蹈 观音菩萨赞（欢庆腊八节）,2021-01-19T12:00:24Z\nhttps://www.youtube.com/watch?v=-cAh78v-kzg,原创诗朗诵《大密颂》,2021-01-18T11:07:20Z\nhttps://www.youtube.com/watch?v=nANvDWVoZIQ,【梵呗】炉香赞/ 爐香贊/ Buddhist chanting,2021-01-18T11:03:49Z\nhttps://www.youtube.com/watch?v=illJJ6D8uJo,赞美佛陀（青少年改编学佛歌曲）,2021-01-18T10:58:20Z\nhttps://www.youtube.com/watch?v=aC0hX49ptSI,青少年舞蹈 Best day of my life 生命中最美好的一天,2021-01-18T01:59:14Z\nhttps://www.youtube.com/watch?v=Enzgs6WyXbg,弥勒佛赞,2021-01-16T16:20:45Z\nhttps://www.youtube.com/watch?v=l0td_LCxxkg,青少年舞蹈 Celebration,2021-01-16T01:10:59Z\nhttps://www.youtube.com/watch?v=BXEO7a83wkw,学佛舞蹈 极乐世界是我家（青年组）,2021-01-15T21:05:01Z\nhttps://www.youtube.com/watch?v=f3DzWl9soYE,寺院路面及排水系统重建工程,2021-01-15T20:07:33Z\nhttps://www.youtube.com/watch?v=qJcYGiXBKLk,天真活泼的学佛孩子 也跳起来了 I am gonna catch you,2021-01-13T22:56:58Z\nhttps://www.youtube.com/watch?v=gPBjqtFSBwo,二零一八年新年庆祝简报,2021-01-13T22:51:06Z\nhttps://www.youtube.com/watch?v=rBgROEb4JIo,献礼大密六周年（DAMI sixth anniversary） 中年人也舞动起来： 向快乐出发！,2021-01-13T11:34:34Z\nhttps://www.youtube.com/watch?v=xeNc1JC4uIk,青少年舞蹈 All in this together,2021-01-12T22:32:41Z\nhttps://www.youtube.com/watch?v=yNbO-yZln50,发展纪实： 寺院是一步一步发展起来的，为了给居士和孩子们创造良好的环境，2018年后院进行了伐木,2021-01-12T22:31:26Z\nhttps://www.youtube.com/watch?v=WA6fF02BFtk,良好的环境有助于学佛 向您介绍简单易行的 家庭清洁小妙招,2021-01-12T22:23:29Z\nhttps://www.youtube.com/watch?v=NV-crl5wf9Q,韶华易逝 容颜易老 繁华落尽 平淡归真,2021-01-12T00:32:40Z\nhttps://www.youtube.com/watch?v=6oAA7rq4g6Y,职业的选择很重要，真实的学佛故事证明《吉祥经》 从业无害最吉祥,2021-01-11T21:57:38Z\nhttps://www.youtube.com/watch?v=L4_he_zo0BQ,學佛的路選對了！ 【學佛歌曲】  无悔菩提路 / 無悔菩提路,2021-01-11T21:52:30Z\nhttps://www.youtube.com/watch?v=Fhn9X6ao7DA,完全没有舞蹈背景的学佛人 演绎的舞蹈《千手观音》,2021-01-11T19:57:28Z\nhttps://www.youtube.com/watch?v=Rwg14OFTQo8,学佛舞蹈 心是莲花开,2021-01-10T13:44:03Z\nhttps://www.youtube.com/watch?v=NJvVW-6QBHc,原创学佛唱诵 西方朝圣路,2021-01-10T02:27:33Z\nhttps://www.youtube.com/watch?v=NHSHJ-lI0pE,DAMI七周年节庆祝活动简报,2021-01-09T18:45:47Z\nhttps://www.youtube.com/watch?v=03Rty9yCkaA,学佛的孩子最快乐 勇气棒嘟嘟,2021-01-09T15:03:25Z\nhttps://www.youtube.com/watch?v=Z7H0QPoWGo0,这几件事生气的时候不能做,2021-01-09T15:03:13Z\nhttps://www.youtube.com/watch?v=pqVpLvY9Y6I,新的一年开门见喜！让我们快乐的跳起来、腰鼓打起来！,2021-01-09T14:48:08Z\nhttps://www.youtube.com/watch?v=2cLZP52v3ig,DAMI团体七周年掠影,2021-01-08T23:57:38Z\nhttps://www.youtube.com/watch?v=WwpVIslEIYY,冬藏,2021-01-08T23:10:24Z\nhttps://www.youtube.com/watch?v=Sh9KGsaIUAs,佛在我身边（脊髓炎消失了）（下）,2021-01-08T22:47:12Z\nhttps://www.youtube.com/watch?v=PH12ViPiSTM,佛在我身边（脊髓炎消失了）（上）,2021-01-08T22:40:06Z\nhttps://www.youtube.com/watch?v=7sJYg-1uwmw,【梵呗】大阿弥陀赞/ 大阿彌陀贊/ Buddhist chanting,2021-01-08T22:11:55Z\nhttps://www.youtube.com/watch?v=H0cdXx63EPA,歌伴舞 佛陀牵着我的手,2021-01-08T16:39:08Z\nhttps://www.youtube.com/watch?v=QHzjgQ_OO6c,六字真言颂/ 唵嘛呢叭咪吽/ Om mani padme hum 【学佛舞蹈】,2021-01-08T16:33:37Z\nhttps://www.youtube.com/watch?v=nSNwHRBwY0s,学佛治愈乳腺癌,2021-01-08T15:52:07Z\nhttps://www.youtube.com/watch?v=Yu4N3dBfwuc,佛爱纽约 爱我们,2021-01-08T02:37:11Z\nhttps://www.youtube.com/watch?v=5xpfp5TNoM8,岁月静好 感恩有您,2021-01-08T01:22:48Z\nhttps://www.youtube.com/watch?v=9gDb-dOW1M8,第二寺院活动简报,2021-01-07T22:41:22Z\n"
     ]
    }
   ],
   "source": [
    "for key, val in vmap.items():\n",
    "    print(f'https://www.youtube.com/watch?v={key},{val[\"title\"]},{val[\"publishedAt\"]}')"
   ]
  }
 ]
}